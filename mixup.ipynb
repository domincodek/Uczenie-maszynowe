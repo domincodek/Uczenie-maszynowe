{
  "nbformat": 4,
  "nbformat_minor": 0,
  "metadata": {
    "colab": {
      "name": "Untitled3.ipynb",
      "provenance": []
    },
    "kernelspec": {
      "name": "python3",
      "display_name": "Python 3"
    },
    "language_info": {
      "name": "python"
    }
  },
  "cells": [
    {
      "cell_type": "code",
      "execution_count": null,
      "metadata": {
        "id": "n0TdsafZC4WP"
      },
      "outputs": [],
      "source": [
        ""
      ]
    },
    {
      "cell_type": "code",
      "execution_count": 1,
      "metadata": {
        "id": "LVrsRuzuC7al"
      },
      "outputs": [],
      "source": [
        "import numpy as np\n",
        "import tensorflow as tf\n",
        "import matplotlib.pyplot as plt\n",
        "from tensorflow.keras import layers"
      ]
    },
    {
      "cell_type": "code",
      "execution_count": 2,
      "metadata": {
        "id": "W_rKT-FgC7ar",
        "colab": {
          "base_uri": "https://localhost:8080/"
        },
        "outputId": "f5b10183-adf8-49a5-8faf-257f05382fa3"
      },
      "outputs": [
        {
          "output_type": "stream",
          "name": "stdout",
          "text": [
            "Downloading data from https://storage.googleapis.com/tensorflow/tf-keras-datasets/train-labels-idx1-ubyte.gz\n",
            "32768/29515 [=================================] - 0s 0us/step\n",
            "40960/29515 [=========================================] - 0s 0us/step\n",
            "Downloading data from https://storage.googleapis.com/tensorflow/tf-keras-datasets/train-images-idx3-ubyte.gz\n",
            "26427392/26421880 [==============================] - 0s 0us/step\n",
            "26435584/26421880 [==============================] - 0s 0us/step\n",
            "Downloading data from https://storage.googleapis.com/tensorflow/tf-keras-datasets/t10k-labels-idx1-ubyte.gz\n",
            "16384/5148 [===============================================================================================] - 0s 0us/step\n",
            "Downloading data from https://storage.googleapis.com/tensorflow/tf-keras-datasets/t10k-images-idx3-ubyte.gz\n",
            "4423680/4422102 [==============================] - 0s 0us/step\n",
            "4431872/4422102 [==============================] - 0s 0us/step\n"
          ]
        }
      ],
      "source": [
        "(x_train, y_train), (x_test, y_test) = tf.keras.datasets.fashion_mnist.load_data()\n",
        "\n",
        "x_train = x_train.astype(\"float32\") / 255.0\n",
        "x_train = np.reshape(x_train, (-1, 28, 28, 1))\n",
        "y_train = tf.one_hot(y_train, 10)\n",
        "\n",
        "x_test = x_test.astype(\"float32\") / 255.0\n",
        "x_test = np.reshape(x_test, (-1, 28, 28, 1))\n",
        "y_test = tf.one_hot(y_test, 10)"
      ]
    },
    {
      "cell_type": "code",
      "execution_count": 3,
      "metadata": {
        "id": "3A_a9gBLC7at"
      },
      "outputs": [],
      "source": [
        "AUTO = tf.data.AUTOTUNE\n",
        "BATCH_SIZE = 64\n",
        "EPOCHS = 10"
      ]
    },
    {
      "cell_type": "code",
      "execution_count": 4,
      "metadata": {
        "id": "VSeK4ZhqC7aw"
      },
      "outputs": [],
      "source": [
        "# Put aside a few samples to create our validation set\n",
        "val_samples = 2000\n",
        "x_val, y_val = x_train[:val_samples], y_train[:val_samples]\n",
        "new_x_train, new_y_train = x_train[val_samples:], y_train[val_samples:]\n",
        "\n",
        "train_ds_one = (\n",
        "    tf.data.Dataset.from_tensor_slices((new_x_train, new_y_train))\n",
        "    .shuffle(BATCH_SIZE * 100)\n",
        "    .batch(BATCH_SIZE)\n",
        ")\n",
        "train_ds_two = (\n",
        "    tf.data.Dataset.from_tensor_slices((new_x_train, new_y_train))\n",
        "    .shuffle(BATCH_SIZE * 100)\n",
        "    .batch(BATCH_SIZE)\n",
        ")\n",
        "# Because we will be mixing up the images and their corresponding labels, we will be\n",
        "# combining two shuffled datasets from the same training data.\n",
        "train_ds = tf.data.Dataset.zip((train_ds_one, train_ds_two))\n",
        "\n",
        "val_ds = tf.data.Dataset.from_tensor_slices((x_val, y_val)).batch(BATCH_SIZE)\n",
        "\n",
        "test_ds = tf.data.Dataset.from_tensor_slices((x_test, y_test)).batch(BATCH_SIZE)"
      ]
    },
    {
      "cell_type": "code",
      "execution_count": 5,
      "metadata": {
        "id": "LN4Zog8GC7a0"
      },
      "outputs": [],
      "source": [
        "\n",
        "def sample_beta_distribution(size, concentration_0=0.2, concentration_1=0.2):\n",
        "    gamma_1_sample = tf.random.gamma(shape=[size], alpha=concentration_1)\n",
        "    gamma_2_sample = tf.random.gamma(shape=[size], alpha=concentration_0)\n",
        "    return gamma_1_sample / (gamma_1_sample + gamma_2_sample)\n",
        "\n",
        "\n",
        "def mix_up(ds_one, ds_two, alpha=0.2):\n",
        "    # Unpack two datasets\n",
        "    images_one, labels_one = ds_one\n",
        "    images_two, labels_two = ds_two\n",
        "    batch_size = tf.shape(images_one)[0]\n",
        "\n",
        "    # Sample lambda and reshape it to do the mixup\n",
        "    l = sample_beta_distribution(batch_size, alpha, alpha)\n",
        "    x_l = tf.reshape(l, (batch_size, 1, 1, 1))\n",
        "    y_l = tf.reshape(l, (batch_size, 1))\n",
        "\n",
        "    # Perform mixup on both images and labels by combining a pair of images/labels\n",
        "    # (one from each dataset) into one image/label\n",
        "    images = images_one * x_l + images_two * (1 - x_l)\n",
        "    labels = labels_one * y_l + labels_two * (1 - y_l)\n",
        "    return (images, labels)\n"
      ]
    },
    {
      "cell_type": "code",
      "execution_count": 6,
      "metadata": {
        "id": "btpOHL3sC7a2",
        "colab": {
          "base_uri": "https://localhost:8080/",
          "height": 745
        },
        "outputId": "64aba3e9-922d-4a3e-bbb2-fba0edff2d21"
      },
      "outputs": [
        {
          "output_type": "stream",
          "name": "stdout",
          "text": [
            "[0.0, 0.0, 0.0, 0.0, 0.0, 0.0, 0.8116039037704468, 0.18839608132839203, 0.0, 0.0]\n",
            "[0.0, 0.0, 0.0, 4.470348358154297e-06, 0.9999955296516418, 0.0, 0.0, 0.0, 0.0, 0.0]\n",
            "[0.0, 0.8840827941894531, 0.0, 0.0, 0.11591717600822449, 0.0, 0.0, 0.0, 0.0, 0.0]\n",
            "[0.0, 0.0, 0.09531359374523163, 0.9046863913536072, 0.0, 0.0, 0.0, 0.0, 0.0, 0.0]\n",
            "[0.0, 0.0, 0.0, 0.0, 0.0003416746330913156, 0.0, 0.0, 0.0, 0.0, 0.9996583461761475]\n",
            "[0.0, 0.0, 0.0, 0.0, 0.0, 0.0, 0.0, 0.8952344655990601, 0.10476553440093994, 0.0]\n",
            "[0.0, 0.0, 0.0, 0.9209010601043701, 0.0, 0.07909893989562988, 0.0, 0.0, 0.0, 0.0]\n",
            "[0.0, 0.0, 0.00011098384857177734, 0.0, 0.0, 0.9998890161514282, 0.0, 0.0, 0.0, 0.0]\n",
            "[0.0, 0.0, 0.0, 0.0, 0.0, 0.0, 0.0, 0.0, 0.0, 1.0]\n"
          ]
        },
        {
          "output_type": "display_data",
          "data": {
            "image/png": "[encoded data removed]",
            "text/plain": [
              "<Figure size 720x720 with 9 Axes>"
            ]
          },
          "metadata": {
            "needs_background": "light"
          }
        }
      ],
      "source": [
        "# First create the new dataset using our `mix_up` utility\n",
        "train_ds_mu = train_ds.map(\n",
        "    lambda ds_one, ds_two: mix_up(ds_one, ds_two, alpha=0.2), num_parallel_calls=AUTO\n",
        ")\n",
        "\n",
        "# Let's preview 9 samples from the dataset\n",
        "sample_images, sample_labels = next(iter(train_ds_mu))\n",
        "plt.figure(figsize=(10, 10))\n",
        "for i, (image, label) in enumerate(zip(sample_images[:9], sample_labels[:9])):\n",
        "    ax = plt.subplot(3, 3, i + 1)\n",
        "    plt.imshow(image.numpy().squeeze())\n",
        "    print(label.numpy().tolist())\n",
        "    plt.axis(\"off\")"
      ]
    },
    {
      "cell_type": "code",
      "execution_count": 7,
      "metadata": {
        "id": "vS7Y24T8C7a4"
      },
      "outputs": [],
      "source": [
        "\n",
        "def get_training_model():\n",
        "    model = tf.keras.Sequential(\n",
        "        [\n",
        "            layers.Conv2D(16, (5, 5), activation=\"relu\", input_shape=(28, 28, 1)),\n",
        "            layers.MaxPooling2D(pool_size=(2, 2)),\n",
        "            layers.Conv2D(32, (5, 5), activation=\"relu\"),\n",
        "            layers.MaxPooling2D(pool_size=(2, 2)),\n",
        "            layers.Dropout(0.2),\n",
        "            layers.GlobalAvgPool2D(),\n",
        "            layers.Dense(128, activation=\"relu\"),\n",
        "            layers.Dense(10, activation=\"softmax\"),\n",
        "        ]\n",
        "    )\n",
        "    return model\n"
      ]
    },
    {
      "cell_type": "code",
      "execution_count": 8,
      "metadata": {
        "id": "9Hs-Wv4EC7a6"
      },
      "outputs": [],
      "source": [
        "initial_model = get_training_model()\n",
        "initial_model.save_weights(\"initial_weights.h5\")"
      ]
    },
    {
      "cell_type": "code",
      "execution_count": 9,
      "metadata": {
        "id": "9Ewxo-AmC7a8",
        "colab": {
          "base_uri": "https://localhost:8080/"
        },
        "outputId": "9f06ab68-10ba-46b4-c88a-f36891fdd5b2"
      },
      "outputs": [
        {
          "output_type": "stream",
          "name": "stdout",
          "text": [
            "Epoch 1/10\n",
            "907/907 [==============================] - 33s 35ms/step - loss: 1.1547 - accuracy: 0.6397 - val_loss: 0.6619 - val_accuracy: 0.7570\n",
            "Epoch 2/10\n",
            "907/907 [==============================] - 32s 35ms/step - loss: 0.9281 - accuracy: 0.7313 - val_loss: 0.5642 - val_accuracy: 0.8030\n",
            "Epoch 3/10\n",
            "907/907 [==============================] - 32s 35ms/step - loss: 0.8577 - accuracy: 0.7648 - val_loss: 0.4948 - val_accuracy: 0.8345\n",
            "Epoch 4/10\n",
            "907/907 [==============================] - 32s 35ms/step - loss: 0.8049 - accuracy: 0.7886 - val_loss: 0.4481 - val_accuracy: 0.8465\n",
            "Epoch 5/10\n",
            "907/907 [==============================] - 32s 35ms/step - loss: 0.7703 - accuracy: 0.7989 - val_loss: 0.4220 - val_accuracy: 0.8625\n",
            "Epoch 6/10\n",
            "907/907 [==============================] - 32s 36ms/step - loss: 0.7473 - accuracy: 0.8076 - val_loss: 0.4090 - val_accuracy: 0.8630\n",
            "Epoch 7/10\n",
            "907/907 [==============================] - 32s 36ms/step - loss: 0.7342 - accuracy: 0.8108 - val_loss: 0.3792 - val_accuracy: 0.8690\n",
            "Epoch 8/10\n",
            "907/907 [==============================] - 32s 35ms/step - loss: 0.7075 - accuracy: 0.8211 - val_loss: 0.3749 - val_accuracy: 0.8690\n",
            "Epoch 9/10\n",
            "907/907 [==============================] - 32s 35ms/step - loss: 0.7013 - accuracy: 0.8214 - val_loss: 0.3646 - val_accuracy: 0.8715\n",
            "Epoch 10/10\n",
            "907/907 [==============================] - 32s 35ms/step - loss: 0.6866 - accuracy: 0.8251 - val_loss: 0.3573 - val_accuracy: 0.8735\n",
            "157/157 [==============================] - 2s 11ms/step - loss: 0.3790 - accuracy: 0.8680\n",
            "Test accuracy: 86.80%\n"
          ]
        }
      ],
      "source": [
        "model = get_training_model()\n",
        "model.load_weights(\"initial_weights.h5\")\n",
        "model.compile(loss=\"categorical_crossentropy\", optimizer=\"adam\", metrics=[\"accuracy\"])\n",
        "model.fit(train_ds_mu, validation_data=val_ds, epochs=EPOCHS)\n",
        "_, test_acc = model.evaluate(test_ds)\n",
        "print(\"Test accuracy: {:.2f}%\".format(test_acc * 100))"
      ]
    },
    {
      "cell_type": "code",
      "execution_count": 10,
      "metadata": {
        "id": "SY4PX_v2C7a9",
        "colab": {
          "base_uri": "https://localhost:8080/"
        },
        "outputId": "ed5092c5-24bb-43ac-d406-78997824542f"
      },
      "outputs": [
        {
          "output_type": "stream",
          "name": "stdout",
          "text": [
            "Epoch 1/10\n",
            "907/907 [==============================] - 32s 35ms/step - loss: 0.8805 - accuracy: 0.6719 - val_loss: 0.6310 - val_accuracy: 0.7685\n",
            "Epoch 2/10\n",
            "907/907 [==============================] - 31s 35ms/step - loss: 0.6287 - accuracy: 0.7609 - val_loss: 0.5487 - val_accuracy: 0.7940\n",
            "Epoch 3/10\n",
            "907/907 [==============================] - 32s 35ms/step - loss: 0.5493 - accuracy: 0.7960 - val_loss: 0.4897 - val_accuracy: 0.8235\n",
            "Epoch 4/10\n",
            "907/907 [==============================] - 32s 35ms/step - loss: 0.4971 - accuracy: 0.8191 - val_loss: 0.4402 - val_accuracy: 0.8490\n",
            "Epoch 5/10\n",
            "907/907 [==============================] - 32s 35ms/step - loss: 0.4617 - accuracy: 0.8318 - val_loss: 0.4257 - val_accuracy: 0.8525\n",
            "Epoch 6/10\n",
            "907/907 [==============================] - 32s 35ms/step - loss: 0.4337 - accuracy: 0.8423 - val_loss: 0.3930 - val_accuracy: 0.8600\n",
            "Epoch 7/10\n",
            "907/907 [==============================] - 32s 35ms/step - loss: 0.4090 - accuracy: 0.8518 - val_loss: 0.3734 - val_accuracy: 0.8635\n",
            "Epoch 8/10\n",
            "907/907 [==============================] - 32s 35ms/step - loss: 0.3911 - accuracy: 0.8577 - val_loss: 0.3566 - val_accuracy: 0.8700\n",
            "Epoch 9/10\n",
            "907/907 [==============================] - 32s 35ms/step - loss: 0.3789 - accuracy: 0.8619 - val_loss: 0.3601 - val_accuracy: 0.8680\n",
            "Epoch 10/10\n",
            "907/907 [==============================] - 32s 35ms/step - loss: 0.3677 - accuracy: 0.8656 - val_loss: 0.3372 - val_accuracy: 0.8730\n",
            "157/157 [==============================] - 2s 11ms/step - loss: 0.3608 - accuracy: 0.8688\n",
            "Test accuracy: 86.88%\n"
          ]
        }
      ],
      "source": [
        "model = get_training_model()\n",
        "model.load_weights(\"initial_weights.h5\")\n",
        "model.compile(loss=\"categorical_crossentropy\", optimizer=\"adam\", metrics=[\"accuracy\"])\n",
        "# Notice that we are NOT using the mixed up dataset here\n",
        "model.fit(train_ds_one, validation_data=val_ds, epochs=EPOCHS)\n",
        "_, test_acc = model.evaluate(test_ds)\n",
        "print(\"Test accuracy: {:.2f}%\".format(test_acc * 100))"
      ]
    }
  ]
}
